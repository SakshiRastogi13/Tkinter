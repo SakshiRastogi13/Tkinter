{
 "cells": [
  {
   "cell_type": "code",
   "execution_count": 1,
   "metadata": {},
   "outputs": [],
   "source": [
    "from tkinter import *\n",
    "import random\n",
    "from tkinter import messagebox\n",
    "root=Tk()\n",
    "root.title(\"Guessing Game\")\n",
    "L1=Label(root,text=\"Welcome to the Guessing Game! \\n Good Luck!\",font=('arial',30,'bold'),fg=\"Red\")\n",
    "L1.grid(row=0,column=2)\n",
    "L2=Label(root,fg=\"Blue\")\n",
    "L2.grid(row=1,column=2)\n",
    "computer_guess=random.randint(1,10)\n",
    "def check():\n",
    "    user_guess=int(E1.get())\n",
    "    if(user_guess>computer_guess):\n",
    "        mssg=\"HIGHER\"\n",
    "    elif(user_guess<computer_guess):\n",
    "        mssg=\"LOWER\"\n",
    "    elif(user_guess==computer_guess):\n",
    "        mssg=\"CORRECT\"\n",
    "    else:\n",
    "        mssg=\"SOMETHING WENT WRONG!!!\"\n",
    "    L2[\"text\"]=mssg\n",
    "def quit():\n",
    "    quit1=messagebox.askyesno(\"Do you want to quit?\")\n",
    "    if quit1>0:\n",
    "        root.destroy()\n",
    "        return\n",
    "def reset():\n",
    "    global computer_guess\n",
    "    computer_guess=random.randint(1,10)\n",
    "    L2[\"text\"]=\"Game Reset...Please Guess Again\"\n",
    "Check=Button(root,text=\"CHECK\",font=('arial',20,'bold'),width=15,height=2,border=5,bg=\"Black\",fg=\"Yellow\",command=check)\n",
    "Check.grid(row=4,column=0)\n",
    "Reset=Button(root,text=\"RESET\",font=('arial',20,'bold'),width=15,height=2,border=5,bg=\"Black\",fg=\"Yellow\",command=reset)\n",
    "Reset.grid(row=4,column=6)\n",
    "Quit=Button(root,text=\"Quit\",font=('arial',20,'bold'),width=15,height=2,border=5,bg=\"Black\",fg=\"Yellow\",command=quit)\n",
    "Quit.grid(row=5,column=2)\n",
    "E1=Entry(root,width=40,border=5)\n",
    "E1.grid(row=3,column=2)\n",
    "root.mainloop()"
   ]
  },
  {
   "cell_type": "markdown",
   "metadata": {},
   "source": [
    " "
   ]
  }
 ],
 "metadata": {
  "kernelspec": {
   "display_name": "Python 3",
   "language": "python",
   "name": "python3"
  },
  "language_info": {
   "codemirror_mode": {
    "name": "ipython",
    "version": 3
   },
   "file_extension": ".py",
   "mimetype": "text/x-python",
   "name": "python",
   "nbconvert_exporter": "python",
   "pygments_lexer": "ipython3",
   "version": "3.7.3"
  }
 },
 "nbformat": 4,
 "nbformat_minor": 2
}
